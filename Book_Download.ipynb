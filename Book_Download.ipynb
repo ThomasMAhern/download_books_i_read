{
 "cells": [
  {
   "cell_type": "code",
   "execution_count": null,
   "id": "b0a3e49d-d791-4d4c-b2f1-8ada7d4c7430",
   "metadata": {
    "scrolled": true,
    "tags": []
   },
   "outputs": [],
   "source": [
    "!pip3 install selenium\n",
    "!pip3 install beautifulsoup4\n",
    "!pip3 install fake_useragent\n",
    "\n",
    "from selenium import webdriver\n",
    "from selenium.webdriver.common.keys import Keys\n",
    "import time\n",
    "import pandas as pd\n",
    "from lxml import html\n",
    "import requests\n",
    "from bs4 import BeautifulSoup\n",
    "import random\n",
    "\n",
    "# so you don't get flagged as a bot\n",
    "from fake_useragent import UserAgent\n",
    "\n",
    "# for captcha clicking\n",
    "from selenium.webdriver.support.ui import WebDriverWait\n",
    "from selenium.webdriver.common.by import By\n",
    "from selenium.webdriver.support import expected_conditions as EC"
   ]
  },
  {
   "cell_type": "code",
   "execution_count": null,
   "id": "5f3f89fd-50c6-4ada-902e-c57c10291102",
   "metadata": {
    "tags": []
   },
   "outputs": [],
   "source": [
    "location_of_chrome_driver = '/Users/IOKTWIEAETIQ/Downloads/chromedriver'\n",
    "website_to_visit = 'https://www.pdfdrive.com/'\n",
    "location_of_buster_chrome_extension = 'Buster_-Captcha-Solver-for-Humans_v1.2.2.crx'\n",
    "\n",
    "\n",
    "def chrome_w_xtras():\n",
    "    '''this launches a browser session with random user agent string,\n",
    "    auto-clicks on the captcha, uses buster extension to solve captcha'''\n",
    "    \n",
    "    # Set up chrome before launch\n",
    "    options = webdriver.ChromeOptions() \n",
    "    options.add_argument(\"start-maximized\")\n",
    "    options.add_experimental_option(\"excludeSwitches\", [\"enable-automation\"])\n",
    "    options.add_experimental_option('useAutomationExtension', False)\n",
    "\n",
    "    # get buster extension working using https://stackoverflow.com/questions/34222412/load-chrome-extension-using-selenium\n",
    "    options.add_extension(location_of_buster_chrome_extension) \n",
    "\n",
    "    # get set up with random fake useragent string thanks to: \n",
    "    # https://stackoverflow.com/questions/49565042/way-to-change-google-chrome-user-agent-in-selenium/49565254#49565254\n",
    "    ua = UserAgent()\n",
    "    userAgent = ua.random\n",
    "    print(userAgent)\n",
    "    options.add_argument(f'user-agent={userAgent}')\n",
    "\n",
    "    #loads options and launches browser\n",
    "    driver = webdriver.Chrome(options=options, executable_path=location_of_chrome_driver)\n",
    "    driver.get(website_to_visit)\n",
    "    \n",
    "    # opens new tab to check IP\n",
    "#     driver.execute_script(\"window.open('https://whatismyipaddress.com/');\")\n",
    "chrome_w_xtras()"
   ]
  },
  {
   "cell_type": "code",
   "execution_count": null,
   "id": "3bf03c44-4f24-468f-bbf0-a20b23153ed0",
   "metadata": {
    "tags": []
   },
   "outputs": [],
   "source": [
    "location_of_chrome_driver = '/Users/IOKTWIEAETIQ/Downloads/chromedriver'\n",
    "website_to_visit = 'https://www.pdfdrive.com/'\n",
    "\n",
    "# start browser\n",
    "driver = webdriver.Chrome(executable_path=location_of_chrome_driver)\n",
    "driver.get(website_to_visit)\n",
    "\n",
    "# search bar\n",
    "search_bar = driver.find_element_by_xpath('//*[@id=\"q\"]')\n",
    "search_bar.send_keys(book_2_dl)\n",
    "\n",
    "# click\n",
    "search = driver.find_element_by_xpath('//*[@id=\"search-form\"]/button/i')\n",
    "search.click()\n",
    "\n",
    "# select first result\n",
    "result = driver.find_element_by_xpath('/html/body/div[3]/div[1]/div[1]/div[4]/ul/li[1]/div/div/div[2]/a/h2')\n",
    "result.click()\n",
    "\n",
    "# click download button\n",
    "download_button = driver.find_element_by_xpath('//*[@id=\"download-button-link\"]')\n",
    "download_button.click()\n",
    "\n",
    "# wait for resource to load\n",
    "time.sleep(15)\n",
    "\n",
    "# download pdf\n",
    "get_pdf = driver.find_element_by_xpath('//*[@id=\"alternatives\"]/div[1]/div/a')\n",
    "get_pdf.click()\n",
    "\n",
    "# # x out of ad\n",
    "# fuck_ads = driver.find_element_by_xpath('//*[@id=\"pdfdriveAlerts\"]/div/div/div/i')\n",
    "# fuck_ads.click()"
   ]
  },
  {
   "cell_type": "code",
   "execution_count": null,
   "id": "6d82543a-6ac4-441c-b77a-50884d5b7a5b",
   "metadata": {
    "tags": []
   },
   "outputs": [],
   "source": [
    "books = [\"The Mind's Eye\",\n",
    "    \"The Genius in All of Us: Why Everything You've Been Told About Genetics, Talent, and IQ Is Wrong\",\n",
    "    \"Being Wrong: Adventures in the Margin of Error\",\n",
    "    \"The Invisible Gorilla: And Other Ways Our Intuitions Deceive Us\",\n",
    "    \"The Shallows: What the Internet Is Doing to Our Brains\",\n",
    "    \"Phantoms in the Brain: Probing the Mysteries of the Human Mind\",\n",
    "    \"NurtureShock: New Thinking About Children\",\n",
    "    \"Everyday Survival: Why Smart People Do Stupid Things\",\n",
    "    \"Outliers: The Story of Success\",\n",
    "    \"The God Delusion\",\n",
    "    \"Traffic: Why We Drive the Way We Do and What It Says About Us\",\n",
    "    \"The Unthinkable: Who Survives When Disaster Strikes - and Why\",\n",
    "    \"The Tipping Point: How Little Things Can Make a Big Difference\",\n",
    "    \"The Selfish Gene\",\n",
    "    \"Made to Stick: Why Some Ideas Survive and Others Die\",\n",
    "    \"Blink: The Power of Thinking Without Thinking\",\n",
    "    \"The Man Who Mistook His Wife for a Hat and Other Clinical Tales\",\n",
    "    \"Future Crimes\",\n",
    "    \"Blueprint: How DNA makes us who we are\",\n",
    "    \"I Contain Multitudes: The Microbes Within Us and a Grander View of Life\",\n",
    "    \"Invisible Women: Data Bias in a World Designed for Men\",\n",
    "    \"Behave: The Biology of Humans at Our Best and Worst\"]"
   ]
  },
  {
   "cell_type": "markdown",
   "id": "c3636a3b-8bce-4da9-b8c5-387f5ae1debf",
   "metadata": {},
   "source": [
    "## Selenium"
   ]
  },
  {
   "cell_type": "code",
   "execution_count": 2,
   "id": "f0b5e73e-a276-4e5d-b2b2-fa43ff0e3c99",
   "metadata": {
    "collapsed": true,
    "jupyter": {
     "outputs_hidden": true
    },
    "scrolled": true,
    "tags": []
   },
   "outputs": [
    {
     "name": "stdout",
     "output_type": "stream",
     "text": [
      "Defaulting to user installation because normal site-packages is not writeable\n",
      "Requirement already satisfied: selenium in ./Library/Python/3.8/lib/python/site-packages (4.1.0)\n",
      "Requirement already satisfied: trio~=0.17 in ./Library/Python/3.8/lib/python/site-packages (from selenium) (0.19.0)\n",
      "Requirement already satisfied: trio-websocket~=0.9 in ./Library/Python/3.8/lib/python/site-packages (from selenium) (0.9.2)\n",
      "Requirement already satisfied: urllib3[secure]~=1.26 in ./Library/Python/3.8/lib/python/site-packages (from selenium) (1.26.6)\n",
      "Requirement already satisfied: attrs>=19.2.0 in ./Library/Python/3.8/lib/python/site-packages (from trio~=0.17->selenium) (21.2.0)\n",
      "Requirement already satisfied: sortedcontainers in ./Library/Python/3.8/lib/python/site-packages (from trio~=0.17->selenium) (2.4.0)\n",
      "Requirement already satisfied: async-generator>=1.9 in ./Library/Python/3.8/lib/python/site-packages (from trio~=0.17->selenium) (1.10)\n",
      "Requirement already satisfied: sniffio in ./Library/Python/3.8/lib/python/site-packages (from trio~=0.17->selenium) (1.2.0)\n",
      "Requirement already satisfied: idna in ./Library/Python/3.8/lib/python/site-packages (from trio~=0.17->selenium) (3.2)\n",
      "Requirement already satisfied: outcome in ./Library/Python/3.8/lib/python/site-packages (from trio~=0.17->selenium) (1.1.0)\n",
      "Requirement already satisfied: wsproto>=0.14 in ./Library/Python/3.8/lib/python/site-packages (from trio-websocket~=0.9->selenium) (1.0.0)\n",
      "Requirement already satisfied: cryptography>=1.3.4 in ./Library/Python/3.8/lib/python/site-packages (from urllib3[secure]~=1.26->selenium) (36.0.1)\n",
      "Requirement already satisfied: pyOpenSSL>=0.14 in ./Library/Python/3.8/lib/python/site-packages (from urllib3[secure]~=1.26->selenium) (22.0.0)\n",
      "Requirement already satisfied: certifi in ./Library/Python/3.8/lib/python/site-packages (from urllib3[secure]~=1.26->selenium) (2021.5.30)\n",
      "Requirement already satisfied: cffi>=1.12 in ./Library/Python/3.8/lib/python/site-packages (from cryptography>=1.3.4->urllib3[secure]~=1.26->selenium) (1.14.5)\n",
      "Requirement already satisfied: h11<1,>=0.9.0 in ./Library/Python/3.8/lib/python/site-packages (from wsproto>=0.14->trio-websocket~=0.9->selenium) (0.13.0)\n",
      "Requirement already satisfied: pycparser in ./Library/Python/3.8/lib/python/site-packages (from cffi>=1.12->cryptography>=1.3.4->urllib3[secure]~=1.26->selenium) (2.20)\n",
      "\u001b[33mWARNING: You are using pip version 22.0.2; however, version 22.0.3 is available.\n",
      "You should consider upgrading via the '/Library/Developer/CommandLineTools/usr/bin/python3 -m pip install --upgrade pip' command.\u001b[0m\u001b[33m\n",
      "\u001b[0m"
     ]
    }
   ],
   "source": [
    "!pip3 install selenium\n",
    "from selenium import webdriver\n",
    "import time"
   ]
  },
  {
   "cell_type": "code",
   "execution_count": 6,
   "id": "1e694ac0-a8f2-4042-8656-e567886f8868",
   "metadata": {},
   "outputs": [],
   "source": [
    "def clicked(xpath):\n",
    "    '''Click on a xpath element'''\n",
    "    driver.find_element_by_xpath(xpath).click()\n",
    "    \n",
    "def fill_a_field(xpath, string):\n",
    "    '''Send text values into an input field'''\n",
    "    driver.find_element_by_xpath(xpath).send_keys(string)# def get_a_book(book_title):\n",
    "\n",
    "def navigate_to_book_dl(book_name):\n",
    "    '''Give book name, it clicks through to result'''\n",
    "    fill_a_field(xpath_search_bar, book_name)\n",
    "    clicked(xpath_search_button)\n",
    "    clicked(xpath_first_result_button)\n",
    "\n",
    "def actually_download():\n",
    "    '''From book page, click and wait for download'''\n",
    "    clicked(xpath_download_button)\n",
    "    time.sleep(15) # wait for it to tasty the pdf file\n",
    "    clicked(xpath_get_pdf_button) # actually click the download\n",
    "    time.sleep(6) # wait for it to finish downloading\n",
    "    \n",
    "# Where are the things?\n",
    "location_of_chrome_driver = '/Users/ioktwieaetiq/Downloads/chromedriver'\n",
    "website_to_visit = 'https://www.pdfdrive.com/'\n",
    "books = ['dataclysm']\n",
    "\n",
    "# set the xpaths\n",
    "xpath_search_bar = '//*[@id=\"q\"]'\n",
    "xpath_search_button = '//*[@id=\"search-form\"]/button/i'\n",
    "xpath_first_result_button = '/html/body/div[3]/div[1]/div[1]/div[4]/ul/li[1]/div/div/div[2]/a/h2'\n",
    "xpath_download_button = '//*[@id=\"download-button-link\"]'\n",
    "xpath_get_pdf_button = '//*[@id=\"alternatives\"]/div[1]/div/a'\n",
    "\n",
    "# start browser\n",
    "driver = webdriver.Chrome(executable_path=location_of_chrome_driver)\n",
    "driver.get(website_to_visit)\n",
    "\n",
    "# run the things\n",
    "for book in books:    \n",
    "    navigate_to_book_dl(book)\n",
    "    actually_download()\n",
    "\n",
    "driver.close()"
   ]
  },
  {
   "cell_type": "code",
   "execution_count": null,
   "id": "6b10adaf-0c16-48d4-b659-92e921a1c1cb",
   "metadata": {},
   "outputs": [],
   "source": []
  },
  {
   "cell_type": "code",
   "execution_count": null,
   "id": "bdfcf28e-3122-4c87-bd5c-d63bec0a3477",
   "metadata": {},
   "outputs": [],
   "source": [
    "driver.find_element_by_xpath('/html/body/div[3]/div[1]/div[1]/div[4]/ul/li[1]/div/div/div[2]/a').click()\n",
    "driver.find_element_by_xpath('/html/body/div[3]/div[1]/div[1]/div[4]/ul/li[2]/div/div/div[2]/a').click()"
   ]
  },
  {
   "cell_type": "markdown",
   "id": "01073037-8f23-4b17-90e4-75d83f4cc222",
   "metadata": {},
   "source": [
    "## Playwright"
   ]
  },
  {
   "cell_type": "code",
   "execution_count": 7,
   "id": "17d4706e-7679-4944-9e4c-a53ddc3b02b3",
   "metadata": {
    "scrolled": true,
    "tags": []
   },
   "outputs": [
    {
     "name": "stdout",
     "output_type": "stream",
     "text": [
      "Defaulting to user installation because normal site-packages is not writeable\n",
      "Requirement already satisfied: playwright in ./Library/Python/3.8/lib/python/site-packages (1.17.2)\n",
      "Requirement already satisfied: greenlet>=1.0.0 in ./Library/Python/3.8/lib/python/site-packages (from playwright) (1.1.2)\n",
      "Requirement already satisfied: websockets>=8.1 in ./Library/Python/3.8/lib/python/site-packages (from playwright) (10.1)\n",
      "Requirement already satisfied: pyee>=8.0.1 in ./Library/Python/3.8/lib/python/site-packages (from playwright) (8.2.2)\n",
      "Requirement already satisfied: typing-extensions in ./Library/Python/3.8/lib/python/site-packages (from playwright) (3.10.0.0)\n",
      "\u001b[33mWARNING: You are using pip version 22.0.2; however, version 22.0.3 is available.\n",
      "You should consider upgrading via the '/Library/Developer/CommandLineTools/usr/bin/python3 -m pip install --upgrade pip' command.\u001b[0m\u001b[33m\n",
      "\u001b[0m"
     ]
    }
   ],
   "source": [
    "!pip3 install playwright\n",
    "import playwright\n",
    "from playwright.sync_api import sync_playwright\n",
    "from playwright.async_api import async_playwright"
   ]
  },
  {
   "cell_type": "code",
   "execution_count": null,
   "id": "6202fe15-5464-4984-a1a9-7795b8916235",
   "metadata": {},
   "outputs": [],
   "source": []
  },
  {
   "cell_type": "code",
   "execution_count": 58,
   "id": "335608c4-0888-4121-b58b-9786ebc4551d",
   "metadata": {
    "jupyter": {
     "source_hidden": true
    },
    "tags": []
   },
   "outputs": [
    {
     "name": "stdout",
     "output_type": "stream",
     "text": [
      "This one failed: dataclysm\n",
      "This one failed: Sapiens: A Brief History of Humankind\n"
     ]
    }
   ],
   "source": [
    "website_to_visit = 'https://www.pdfdrive.com/'\n",
    "books = ['dataclysm', 'Sapiens: A Brief History of Humankind']\n",
    "\n",
    "# xpath_search_bar = '//*[@id=\"q\"]'\n",
    "xpath_search_bar = 'id=q'\n",
    "xpath_search_button = '//*[@id=\"search-form\"]/button/i'\n",
    "selector_first_result_button = 'body > div.dialog > div.dialog-main > div.dialog-left > div.files-new > ul > li:nth-child(1) > div > div > div.file-right > a'\n",
    "xpath_dropdown_button = '//*[@id=\"alternatives\"]/div[1]/div/button'\n",
    "xpath_download_button = '//*[@id=\"download-button-link\"]'\n",
    "xpath_get_pdf_button = '//*[@id=\"alternatives\"]/div[1]/div/a'\n",
    "xpath_popup = '//*[@id=\"pdfdriveAlerts\"]/div/div/div/i'\n",
    "\n",
    "\n",
    "\n",
    "async with async_playwright() as p: \n",
    "    browser = await p.chromium.launch(headless=False) # start a browser instance\n",
    "#     browser = await p.chromium.launch() # start a headless browser instance\n",
    "\n",
    "\n",
    "    context = await browser.new_context(accept_downloads= True) # create a new incognito browser context \n",
    "    page = await context.new_page() # create a new page inside context\n",
    "    await page.goto(website_to_visit) # go to initial page\n",
    "    await page.pause()\n",
    "\n",
    "        \n",
    "    # Data Extraction Code Here\n",
    "    for book_title in books:\n",
    "        try:\n",
    "            await page.fill(xpath_search_bar, book_title) # take xpath and strings from books\n",
    "            await page.click(xpath_search_button)\n",
    "            await page.click(selector_first_result_button)\n",
    "            await page.click(xpath_download_button)\n",
    "\n",
    "            # download tricky bullshit\n",
    "            async with page.expect_download() as download_info:\n",
    "                await page.click(xpath_get_pdf_button)\n",
    "            download = await download_info.value\n",
    "            # waits for download to complete\n",
    "            path = await download.path()\n",
    "            print(download.suggested_filename)\n",
    "            await download.save_as(f'/Users/ioktwieaetiq/Downloads/{download.suggested_filename}') \n",
    "        except:\n",
    "            print(f'This one failed: {book_title}')\n",
    "        \n",
    "\n",
    "\n",
    "\n",
    "#     await page.wait_for_timeout(1000)  # Wait for 1 second\n"
   ]
  },
  {
   "cell_type": "code",
   "execution_count": null,
   "id": "61bff679-8b52-489b-bb7f-07f0cd54eab2",
   "metadata": {},
   "outputs": [],
   "source": []
  },
  {
   "cell_type": "code",
   "execution_count": 11,
   "id": "9e364ca6-0389-4e87-9a16-dedcf4cc0030",
   "metadata": {},
   "outputs": [
    {
     "name": "stdout",
     "output_type": "stream",
     "text": [
      "This one failed: ultralearning\n"
     ]
    }
   ],
   "source": [
    "website_to_visit = 'https://www.pdfdrive.com/'\n",
    "books = ['ultralearning']\n",
    "\n",
    "# xpath_search_bar = '//*[@id=\"q\"]'\n",
    "xpath_search_bar = 'id=q'\n",
    "xpath_search_button = '//*[@id=\"search-form\"]/button/i'\n",
    "selector_first_result_button = 'div.files-new > ul > li:nth-child(1) > div > div > div.file-right > a'\n",
    "xpath_dropdown_button = '//*[@id=\"alternatives\"]/div[1]/div/button'\n",
    "xpath_download_button = '//*[@id=\"download-button-link\"]'\n",
    "xpath_get_pdf_button = '//*[@id=\"alternatives\"]/div[1]/div/a'\n",
    "xpath_popup = '//*[@id=\"pdfdriveAlerts\"]/div/div/div/i'\n",
    "\n",
    "async def get_2_dl_button():\n",
    "    '''walks through search for book on site, then clicks download button'''\n",
    "    await page.fill(xpath_search_bar, book_title) # take xpath and strings from books\n",
    "    await page.click(xpath_search_button)\n",
    "    await page.click(selector_first_result_button)\n",
    "    await page.click(xpath_download_button)\n",
    "    \n",
    "async def akchtually_dl_it():\n",
    "    '''Does tricky download shit, ensure: new_context(accept_downloads=True)'''\n",
    "    async with page.expect_download() as download_info:\n",
    "        await page.click(xpath_get_pdf_button)\n",
    "    download = await download_info.value \n",
    "    path = await download.path() # waits for download to complete\n",
    "    print(download.suggested_filename)\n",
    "    await download.save_as(f'/Users/ioktwieaetiq/Downloads/{download.suggested_filename}')\n",
    "    \n",
    "async with async_playwright() as p: \n",
    "    browser = await p.chromium.launch(headless=False) # start a browser instance\n",
    "#     browser = await p.chromium.launch() # start a headless browser instance\n",
    "    context = await browser.new_context(accept_downloads=True) # create a new incognito browser context \n",
    "    page = await context.new_page() # create a new page inside context\n",
    "    await page.goto(website_to_visit) # go to initial page\n",
    "#     await page.pause()\n",
    "\n",
    "        \n",
    "    # Data Extraction Code Here\n",
    "    for book_title in books:\n",
    "        try:\n",
    "            await get_2_dl_button()\n",
    "            await akchtually_dl_it()\n",
    "        except:\n",
    "            print(f'This one failed: {book_title}')\n",
    "        \n",
    "\n",
    "\n",
    "\n",
    "#     await page.wait_for_timeout(1000)  # Wait for 1 second\n"
   ]
  },
  {
   "cell_type": "markdown",
   "id": "b70a4448-8bfa-4645-9f9e-61dee4f8bd10",
   "metadata": {},
   "source": [
    "## With vs Without Context Manager:"
   ]
  },
  {
   "cell_type": "markdown",
   "id": "a07e3e77-7cde-489b-8989-7ff697c801a2",
   "metadata": {
    "tags": []
   },
   "source": [
    "# from playwright.async_api import async_playwright\n",
    "\n",
    "playwright = await async_playwright().start()\n",
    "browser = await playwright.chromium.launch(headless=False)\n",
    "context = await browser.new_context(accept_downloads= True)\n",
    "page = await context.new_page()\n",
    "await pagea.pause() \n",
    "await page.goto('http://whatsmyuseragent.org/')\n",
    "# await page.screenshot(path=\"example.png\")\n",
    "browser.close()\n",
    "playwright.stop()\n",
    "\n",
    "# or\n",
    "\n",
    "async with async_playwright() as p:\n",
    "    browser = await p.chromium.launch(headless=False)\n",
    "    context = await browser.new_context(accept_downloads= True)\n",
    "    page = await context.new_page()\n",
    "    await pagea.pause()\n",
    "    await page.goto('http://whatsmyuseragent.org/')\n",
    "    # await page.screenshot(path=\"example.png\")"
   ]
  },
  {
   "cell_type": "code",
   "execution_count": null,
   "id": "785d1385-132e-4e53-be8a-a06cbcd80f98",
   "metadata": {},
   "outputs": [],
   "source": []
  },
  {
   "cell_type": "code",
   "execution_count": null,
   "id": "3b63a705-d064-4198-9a9c-ca9063e135e6",
   "metadata": {},
   "outputs": [],
   "source": []
  },
  {
   "cell_type": "code",
   "execution_count": 55,
   "id": "581139bf-7230-41d8-b6b6-fde2cb116642",
   "metadata": {},
   "outputs": [
    {
     "name": "stdout",
     "output_type": "stream",
     "text": [
      "zsh:1: command not found: playwright\n"
     ]
    }
   ],
   "source": [
    "!playwright codegen wikipedia.org # run in terminal to start recording session"
   ]
  },
  {
   "cell_type": "code",
   "execution_count": null,
   "id": "838aac84-0c9d-49fe-8bc6-c8c584a708b0",
   "metadata": {},
   "outputs": [],
   "source": []
  },
  {
   "cell_type": "code",
   "execution_count": null,
   "id": "200da22a-7b99-4cbd-8267-4a5026014cbb",
   "metadata": {},
   "outputs": [],
   "source": []
  },
  {
   "cell_type": "code",
   "execution_count": null,
   "id": "e64b4392-b9ce-47ca-b681-727c3eae4213",
   "metadata": {},
   "outputs": [],
   "source": []
  },
  {
   "cell_type": "code",
   "execution_count": null,
   "id": "b885c9ae-2d1e-4180-9373-9ff13b0435a5",
   "metadata": {},
   "outputs": [],
   "source": [
    "20/1 x/"
   ]
  },
  {
   "cell_type": "code",
   "execution_count": null,
   "id": "4e248650-05ff-4a33-abd0-506ce4748b5f",
   "metadata": {},
   "outputs": [],
   "source": []
  },
  {
   "cell_type": "code",
   "execution_count": null,
   "id": "34e0779b-1001-4b1f-b0f0-af997ad95fb2",
   "metadata": {},
   "outputs": [],
   "source": []
  },
  {
   "cell_type": "code",
   "execution_count": null,
   "id": "2f4a6693-9218-4d89-a5d2-712d0cf9a89a",
   "metadata": {},
   "outputs": [],
   "source": []
  },
  {
   "cell_type": "markdown",
   "id": "457eff91-c464-4ce5-b467-05ce89e1e565",
   "metadata": {},
   "source": [
    "Basic principles"
   ]
  },
  {
   "cell_type": "code",
   "execution_count": null,
   "id": "a17f3358-0196-4c62-9b6a-b52081741f01",
   "metadata": {},
   "outputs": [],
   "source": [
    "def a_function():\n",
    "    # some async-compatible action that takes a while\n",
    "\n",
    "def another_function():\n",
    "    # some sync function, but not a blocking one\n",
    "\n",
    "def do_stuff():\n",
    "    a_function()\n",
    "    another_function()\n",
    "\n",
    "def main():\n",
    "    for _ in range(3):\n",
    "        do_stuff()\n",
    "\n",
    "main()"
   ]
  },
  {
   "cell_type": "code",
   "execution_count": null,
   "id": "4047a91d-1a0b-4db5-a2d4-d1895c576460",
   "metadata": {},
   "outputs": [],
   "source": [
    "import asyncio\n",
    "\n",
    "async def a_function():\n",
    "    # some async-compatible action that takes a while\n",
    "\n",
    "def another_function():\n",
    "    # some sync function, but not a blocking one\n",
    "\n",
    "async def do_stuff():\n",
    "    await a_function()\n",
    "    another_function()\n",
    "\n",
    "async def main():\n",
    "    tasks = []\n",
    "    for _ in range(3):\n",
    "        tasks.append(asyncio.create_task(do_stuff()))\n",
    "    await asyncio.gather(tasks)\n",
    "\n",
    "asyncio.run(main())"
   ]
  },
  {
   "cell_type": "markdown",
   "id": "f1338045-3ffb-4e9f-b9dc-3b58b3618b44",
   "metadata": {},
   "source": [
    "## Converting to Async code"
   ]
  },
  {
   "cell_type": "code",
   "execution_count": 14,
   "id": "37865bec-a6b1-49a1-b739-53fd87b67025",
   "metadata": {},
   "outputs": [
    {
     "name": "stdout",
     "output_type": "stream",
     "text": [
      "Defaulting to user installation because normal site-packages is not writeable\n",
      "Requirement already satisfied: playwright in ./Library/Python/3.8/lib/python/site-packages (1.17.2)\n",
      "Requirement already satisfied: greenlet>=1.0.0 in ./Library/Python/3.8/lib/python/site-packages (from playwright) (1.1.2)\n",
      "Requirement already satisfied: typing-extensions in ./Library/Python/3.8/lib/python/site-packages (from playwright) (3.10.0.0)\n",
      "Requirement already satisfied: pyee>=8.0.1 in ./Library/Python/3.8/lib/python/site-packages (from playwright) (8.2.2)\n",
      "Requirement already satisfied: websockets>=8.1 in ./Library/Python/3.8/lib/python/site-packages (from playwright) (10.1)\n",
      "\u001b[33mWARNING: You are using pip version 22.0.2; however, version 22.0.3 is available.\n",
      "You should consider upgrading via the '/Library/Developer/CommandLineTools/usr/bin/python3 -m pip install --upgrade pip' command.\u001b[0m\u001b[33m\n",
      "\u001b[0m"
     ]
    }
   ],
   "source": [
    "!pip3 install playwright\n",
    "import playwright\n",
    "from playwright.sync_api import sync_playwright\n",
    "from playwright.async_api import async_playwright"
   ]
  },
  {
   "cell_type": "code",
   "execution_count": null,
   "id": "c23af766-67f1-4ca7-8022-6d3c000655dc",
   "metadata": {},
   "outputs": [],
   "source": [
    "website_to_visit = 'https://www.pdfdrive.com/'\n",
    "books = ['ultralearning']\n",
    "\n",
    "# xpath_search_bar = '//*[@id=\"q\"]'\n",
    "xpath_search_bar = 'id=q'\n",
    "xpath_search_button = '//*[@id=\"search-form\"]/button/i'\n",
    "selector_first_result_button = 'div.files-new > ul > li:nth-child(1) > div > div > div.file-right > a'\n",
    "xpath_dropdown_button = '//*[@id=\"alternatives\"]/div[1]/div/button'\n",
    "xpath_download_button = '//*[@id=\"download-button-link\"]'\n",
    "xpath_get_pdf_button = '//*[@id=\"alternatives\"]/div[1]/div/a'\n",
    "xpath_popup = '//*[@id=\"pdfdriveAlerts\"]/div/div/div/i'\n",
    "\n",
    "async def get_2_dl_button():\n",
    "    '''walks through search for book on site, then clicks download button'''\n",
    "    await page.fill(xpath_search_bar, book_title) # take xpath and strings from books\n",
    "    await page.click(xpath_search_button)\n",
    "    await page.click(selector_first_result_button)\n",
    "    await page.click(xpath_download_button)\n",
    "    \n",
    "async def akchtually_dl_it():\n",
    "    '''Does tricky download shit, ensure: new_context(accept_downloads=True)'''\n",
    "    async with page.expect_download() as download_info:\n",
    "        await page.click(xpath_get_pdf_button)\n",
    "    download = await download_info.value \n",
    "    path = await download.path() # waits for download to complete\n",
    "    print(download.suggested_filename)\n",
    "    await download.save_as(f'/Users/ioktwieaetiq/Downloads/{download.suggested_filename}')\n",
    "    \n",
    "    \n",
    "    \n",
    "\n",
    "async with async_playwright() as p: \n",
    "    browser = await p.chromium.launch(headless=False) # start a browser instance\n",
    "#     browser = await p.chromium.launch() # start a headless browser instance\n",
    "    context = await browser.new_context(accept_downloads=True) # create a new incognito browser context \n",
    "    page = await context.new_page() # create a new page inside context\n",
    "    await page.goto(website_to_visit) # go to initial page\n",
    "#     await page.pause()\n",
    "\n",
    "        \n",
    "    # Data Extraction Code Here\n",
    "    for book_title in books:\n",
    "        try:\n",
    "            await get_2_dl_button()\n",
    "            await akchtually_dl_it()\n",
    "        except:\n",
    "            print(f'This one failed: {book_title}')\n",
    "        \n",
    "\n",
    "\n",
    "\n",
    "#     await page.wait_for_timeout(1000)  # Wait for 1 second\n",
    "\n"
   ]
  },
  {
   "cell_type": "code",
   "execution_count": null,
   "id": "b6b6010d-6de0-4f32-a670-bfeca07e48aa",
   "metadata": {},
   "outputs": [],
   "source": []
  }
 ],
 "metadata": {
  "kernelspec": {
   "display_name": "Python 3",
   "language": "python",
   "name": "python3"
  },
  "language_info": {
   "codemirror_mode": {
    "name": "ipython",
    "version": 3
   },
   "file_extension": ".py",
   "mimetype": "text/x-python",
   "name": "python",
   "nbconvert_exporter": "python",
   "pygments_lexer": "ipython3",
   "version": "3.9.1"
  }
 },
 "nbformat": 4,
 "nbformat_minor": 5
}
